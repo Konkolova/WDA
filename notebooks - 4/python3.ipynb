{
 "cells": [
  {
   "cell_type": "markdown",
   "metadata": {},
   "source": [
    "## Príkazy\n",
    "\n",
    "### Odsadzovanie kódu\n",
    "\n",
    "Odsadzovanie kódu medzerami, alebo tabulátorom na začiatku riadku je v Pythone veľmi dôležité, pretože definuje ako sú príkazy do seba vnorené a spojené do blokov. Napr. nasledujúci kód skončí chybou `IndentationError: expected an indented block:`"
   ]
  },
  {
   "cell_type": "code",
   "execution_count": null,
   "metadata": {},
   "outputs": [],
   "source": [
    "number = 42\n",
    "if number < 0:\n",
    "print(\"negative value\") # chyba! vnorené príkazy musia byť odsadené na novom riadku aspoň jednou medzerou alebo tabulátorom"
   ]
  },
  {
   "cell_type": "markdown",
   "metadata": {},
   "source": [
    "Interpreter očakáva za podmienkou príkazu `if` aspoň jeden ďalší príkaz, ktorý sa vykoná ak je podmienka splnená. Keďže príkaz `print('negative value')` nie je na začiatku riadku odsadený žiadnou medzerou alebo tabulátorom, Interpreter ho považuje za príkaz, ktorý by mal nasledovať za `if`, a príkaz `if` bude považovať za neukončený. Podobne, nasledujúci kód je logicky chybný keďže sa správa `negative number, reset to 0` vypíše aj pre nezáporné čísla. Aby bol príkaz `print` vykonaný iba pri splnení podmienky, musí byť odsadený do rovnakého bloku ako `number = 0`."
   ]
  },
  {
   "cell_type": "code",
   "execution_count": 3,
   "metadata": {},
   "outputs": [
    {
     "name": "stdout",
     "output_type": "stream",
     "text": [
      "negative number, reset to 0\n"
     ]
    }
   ],
   "source": [
    "number = 42\n",
    "if number < 0:\n",
    "    number = 0\n",
    "print(\"negative number, reset to 0\") # logická chyba! ak sa má správa vypísať iba pre záporné čísla,\n",
    "                                     # musí byť príkaz rovnako odsadený ako number = 0"
   ]
  },
  {
   "cell_type": "code",
   "execution_count": null,
   "metadata": {},
   "outputs": [],
   "source": [
    "if number < 0:\n",
    "    number = 0\n",
    "  print (\"negative number, reset to 0\") # chyba! odsadenie musí byť rovnaké pre všetky príkazy v jednom bloku"
   ]
  },
  {
   "cell_type": "markdown",
   "metadata": {},
   "source": [
    "### Vetvenia\n",
    "\n",
    "Vetvenia slúžia na vykonávanie postupnosti (bloku) príkazov iba pri splnení určitej podmienky."
   ]
  },
  {
   "cell_type": "code",
   "execution_count": null,
   "metadata": {},
   "outputs": [],
   "source": [
    "number = 42\n",
    "# podmienkou príkazu if môže byť ľubovoľný výraz, ktorý sa vyhodnotí ako Boolovská hodnota\n",
    "# môžete napr. používať operátory <, >, <=, >=, ==, !=, ‘in’ (testovanie či objekt obsahuje daný prvok) a\n",
    "# kombinovať ich logickými spojkami and, or, not\n",
    "if number < 0:\n",
    "    print(\"negative\")\n",
    "    number = 0 # podmienený blok môže obsahovať viacero príkazov, ktoré musia byť správne odsadené\n",
    "else: # vetva ‘else’ je nepovinná\n",
    "    print(\"zero or positive\")\n",
    "# = zero or positive"
   ]
  },
  {
   "cell_type": "markdown",
   "metadata": {},
   "source": [
    "Viacero podmienok môžete zreťaziť klauzulou `elif` (zreťazenie cez `elif` nahradzuje v Pythone príkaz `switch/case` z jazyka C)"
   ]
  },
  {
   "cell_type": "code",
   "execution_count": null,
   "metadata": {},
   "outputs": [],
   "source": [
    "if number < 0:\n",
    "    number = 0\n",
    "    print(\"negative number, reset to 0\")\n",
    "elif number == 0:\n",
    "    print(\"zero\")\n",
    "elif number == 1:\n",
    "    print(\"single\")\n",
    "else:\n",
    "    print(\"more\")\n",
    "# = more"
   ]
  },
  {
   "cell_type": "markdown",
   "metadata": {},
   "source": [
    "Pre jednoduché podmienené priradenie môžete použiť skrátený zápis podobný ternárnemu príkazu z C `?:`\n",
    "Hodnota1 `if podmienka else hodnota2` - výraz sa rovná `hodnota1` ak je podmienka splnená, alebo `hodnota2` ak je nesplnená."
   ]
  },
  {
   "cell_type": "code",
   "execution_count": null,
   "metadata": {},
   "outputs": [],
   "source": [
    "result = \"negative\" if number < 0 else \"positive or zero\"\n",
    "result # = positive or zero"
   ]
  },
  {
   "cell_type": "markdown",
   "metadata": {},
   "source": [
    "### Cykly\n",
    "\n",
    "Cykly slúžia na opakované vykonávanie bloku príkazov. Python podporuje cyklus `while`, ktorý vykonáva vnorený blok príkazov, pokiaľ je splnená zadaná podmienka; a cyklus `for`, ktorý slúži na postupné spracovanie prvkov (iterovanie) v kolekcii objektov (napr. zoznamov)."
   ]
  },
  {
   "cell_type": "code",
   "execution_count": null,
   "metadata": {},
   "outputs": [],
   "source": [
    "i = 0\n",
    "while i < 10: # cyklus `while` vykonáva vnorený blok príkazov pokiaľ je podmienka splnená.\n",
    "    print(i)\n",
    "    i += 1    # skrátený zápis i = i + 1 (Python nepodporuje operátor ++/-- z jazyka C)"
   ]
  },
  {
   "cell_type": "code",
   "execution_count": 11,
   "metadata": {},
   "outputs": [
    {
     "name": "stdout",
     "output_type": "stream",
     "text": [
      "1\n",
      "2\n",
      "3\n",
      "x=3\n"
     ]
    }
   ],
   "source": [
    "# ‘for‘ cyklus sa používa na postupné prechádzanie prvkov\n",
    "numbers = [1, 2, 3]\n",
    "# napr. pre zoznam, za ‘for’ definujete názov premennej, do ktorej budú postupne dosadené všetky prvky zoznamu\n",
    "for x in numbers:\n",
    "    print(x)\n",
    "\n",
    "print(\"x={0}\".format(x)) # po iterovaní je premenná definovaná aj mimo bloku cyklu a má nastavenú poslednú hodnotu"
   ]
  },
  {
   "cell_type": "code",
   "execution_count": 12,
   "metadata": {},
   "outputs": [
    {
     "name": "stdout",
     "output_type": "stream",
     "text": [
      "0 tic\n",
      "1 tac\n",
      "2 toe\n"
     ]
    }
   ],
   "source": [
    "# ak chcete naraz vypísať index a hodnotu, môžete použiť funkciu enumerate()\n",
    "for i, v in enumerate([\"tic\", \"tac\", \"toe\"]):\n",
    "    print(i, v) # do i je priradený index (od 0) a do v hodnota"
   ]
  },
  {
   "cell_type": "code",
   "execution_count": null,
   "metadata": {},
   "outputs": [],
   "source": [
    "# ak budete počas iterovania pridávať alebo odoberať nejaké hodnoty zo zoznamu, je bezpečnejšie pre iterovanie urobiť jeho kópiu\n",
    "for x in numbers[:]:        # vytvoríme kópiu cez rozsah [:]\n",
    "    numbers.append(x * x)   # pridáme na koniec zoznamu druhé mocniny\n",
    "\n",
    "print(numbers) # = [1, 2, 3, 1, 4, 9]"
   ]
  },
  {
   "cell_type": "markdown",
   "metadata": {},
   "source": [
    "Pre jednoduché iterovanie si môžete vygenerovať postupnosť čísel pomocou funkcie `range()`, napr.:"
   ]
  },
  {
   "cell_type": "code",
   "execution_count": null,
   "metadata": {},
   "outputs": [],
   "source": [
    "for x in range(10): # vygeneruje sa postupnosť [0, 1, 2, 3, 4, 5, 6, 7, 8, 9]\n",
    "    print(x)\n",
    "\n",
    "# ako argument funkcie range() môžete voliteľne zadať aj počiatočnú hodnotu a krok\n",
    "range(3, 7)         # = [3, 4, 5, 6]\n",
    "range(10, 4, -2)    # = [10, 8, 6] - v obrátenom poradí bez poslednej hodnoty"
   ]
  },
  {
   "cell_type": "markdown",
   "metadata": {},
   "source": [
    "Pre prerušenie cyklu, alebo pre preskočenie kódu a pokračovanie ďalšou iteráciou sa používajú príkazy `break` a `continue`, ktoré fungujú podobne ako v jazyku C (môžete ich použiť aj v cykloch `while`)."
   ]
  },
  {
   "cell_type": "code",
   "execution_count": 13,
   "metadata": {},
   "outputs": [
    {
     "name": "stdout",
     "output_type": "stream",
     "text": [
      "1\n",
      "continue for even number\n",
      "3\n",
      "continue for even number\n"
     ]
    }
   ],
   "source": [
    "for x in range(1, 10):\n",
    "    if x % 2 == 0:\n",
    "        print(\"continue for even number\")\n",
    "        continue    # pre párne čísla sa pokračuje nasledujúcou iteráciou a ďalšie príkazy v cykle sa preskočia\n",
    "    if x == 5:\n",
    "        break       # cyklus sa preruší pri x == 5 (pri vnorených cykloch ‘break’ preruší iba najbližší cyklus)\n",
    "    print(x)\n",
    "# vypíše sa:\n",
    "# 1\n",
    "# continue for even number\n",
    "# 3\n",
    "# continue for even number"
   ]
  },
  {
   "cell_type": "markdown",
   "metadata": {},
   "source": [
    "## Úlohy\n",
    "\n",
    "### Úloha 3.1\n",
    "Vygenerujte postupnosť čísel od 1 do 10 (vrátane) a vypočítajte v cykle ich priemernú hodnotu."
   ]
  },
  {
   "cell_type": "code",
   "execution_count": 1,
   "metadata": {},
   "outputs": [
    {
     "name": "stdout",
     "output_type": "stream",
     "text": [
      "5.5000\n"
     ]
    }
   ],
   "source": [
    "sum = 0\n",
    "for x in range (1,11):\n",
    "    sum += x\n",
    "avg = sum / 10   \n",
    "print (\"{0:.4f}\".format(avg))"
   ]
  },
  {
   "cell_type": "code",
   "execution_count": 22,
   "metadata": {},
   "outputs": [
    {
     "name": "stdout",
     "output_type": "stream",
     "text": [
      "5.50\n"
     ]
    }
   ],
   "source": [
    "row = [1,2,3,4,5,6,7,8,9,10]\n",
    "sum = 0\n",
    "for x in row:\n",
    "    sum += x\n",
    "avg = sum / len (row)\n",
    "print (\"{0:.2f}\".format(avg))"
   ]
  },
  {
   "cell_type": "markdown",
   "metadata": {},
   "source": [
    "### Úloha 3.2\n",
    "\n",
    "Vypočítajte priemerné hodnoty v riadkoch a v stĺpcoch nasledujúcej matice."
   ]
  },
  {
   "cell_type": "code",
   "execution_count": 27,
   "metadata": {},
   "outputs": [
    {
     "name": "stdout",
     "output_type": "stream",
     "text": [
      "2.0000\n",
      "5.0000\n",
      "8.0000\n",
      "11.0000\n",
      "5.50\n",
      "6.50\n",
      "7.50\n"
     ]
    }
   ],
   "source": [
    "matrix = [[1, 2, 3], [4, 5, 6], [7, 8, 9], [10, 11, 12]]\n",
    "for row in matrix:\n",
    "    sum = 0\n",
    "    for x in row:\n",
    "        sum += x\n",
    "    avg = sum / len (row)\n",
    "    print (\"{0:.4f}\".format(avg))\n",
    "\n",
    "columns = len(matrix[0])\n",
    "for column in range (0, columns):\n",
    "    sum = 0\n",
    "    for row in matrix:\n",
    "        sum += row[column]\n",
    "    avg = sum / len (matrix)\n",
    "    print (\"{0:.2f}\".format(avg))"
   ]
  },
  {
   "cell_type": "markdown",
   "metadata": {},
   "source": [
    "### Úloha 3.3\n",
    "Napíšte príkaz vetvenia, ktorý vypíše pre zadanú premennú `salary` do ktorého intervalu patrí jej hodnota: `< 1000`, `1000-3000`, `> 3000`, alebo `unknown` pre hodnotu `None`."
   ]
  },
  {
   "cell_type": "code",
   "execution_count": 30,
   "metadata": {},
   "outputs": [
    {
     "name": "stdout",
     "output_type": "stream",
     "text": [
      "unknown\n"
     ]
    }
   ],
   "source": [
    "# výraz otestujte pre zadané hodnoty\n",
    "#salary = 950\n",
    "\n",
    "#salary = 1350\n",
    "\n",
    "#salary = None\n",
    "\n",
    "#salary = 3500\n",
    "if salary is None:\n",
    "    print(\"unknown\")\n",
    "elif salary < 1000:\n",
    "    print(\"salary is less than 1000\")\n",
    "elif salary >= 1000 and salary < 3000:\n",
    "    print(\"salary is in the range of 1000-3000\")\n",
    "else:\n",
    "    print(\"salary is more than 3000\")"
   ]
  },
  {
   "cell_type": "markdown",
   "metadata": {},
   "source": [
    "### Úloha 3.4\n",
    "\n",
    "Rozdeľte nasledujúci text na riadky, v cykle pre každý riadok preveďte všetky písmena na malé a vypíšte zmenené riadky na obrazovku funkciou `print`."
   ]
  },
  {
   "cell_type": "code",
   "execution_count": 35,
   "metadata": {},
   "outputs": [
    {
     "name": "stdout",
     "output_type": "stream",
     "text": [
      "bridgekeeper: hee hee heh. stop. what... is your name?\n",
      "king arthur: it is 'arthur', king of the britons.\n",
      "bridgekeeper: what... is your quest?\n",
      "king arthur: to seek the holy grail.\n",
      "bridgekeeper: what... is the air-speed velocity of an unladen swallow?\n",
      "king arthur: what do you mean? an african or european swallow?\n"
     ]
    }
   ],
   "source": [
    "text = \"\"\"Bridgekeeper: Hee hee heh. Stop. What... is your name?\n",
    "King Arthur: It is 'Arthur', King of the Britons.\n",
    "Bridgekeeper: What... is your quest?\n",
    "King Arthur: To seek the Holy Grail.\n",
    "Bridgekeeper: What... is the air-speed velocity of an unladen swallow?\n",
    "King Arthur: What do you mean? An African or European swallow?\"\"\"\n",
    "\n",
    "for line in text.split(\"\\n\"):\n",
    "    print(line.lower())"
   ]
  },
  {
   "cell_type": "markdown",
   "metadata": {},
   "source": [
    "### Úloha 3.5\n",
    "Naprogramujte skript jednoduchej kalkulačky, ktorá v cykle načíta na vstupe reťazec reprezentujúci číselný výraz v tvare:\n",
    "`[číslo1] [operácia] [číslo2]` a vypočíta jeho číselnú hodnotu. Čísla môžu byť celé, alebo desatinné, a operácia môže byť +-*/.\n",
    "Výsledok vypíšte na 4 desatinné miesta."
   ]
  },
  {
   "cell_type": "code",
   "execution_count": 48,
   "metadata": {},
   "outputs": [
    {
     "name": "stdout",
     "output_type": "stream",
     "text": [
      "3.0000\n",
      "6.2800\n",
      "-1.0000\n",
      "2.0000\n",
      "35.1000\n"
     ]
    }
   ],
   "source": [
    "# ako vstup pre testovanie použite nasledujúci zoznam výrazov\n",
    "exprs = [\"1 + 2\", \"2 * 3.14\", \"2 - 3.0\", \"10 / 5\", \"7.8 * 4.5\"]\n",
    "for calc in exprs:\n",
    "    pole = calc.split(\" \")\n",
    "    a = float (pole[0])\n",
    "    b = float (pole[2])\n",
    "    if pole[1] == \"+\":\n",
    "        result = a + b\n",
    "    elif pole[1] == \"-\":\n",
    "        result = a - b\n",
    "    elif pole[1] == \"*\":\n",
    "        result = a * b\n",
    "    else:\n",
    "        result = a / b\n",
    "    print(\"{0:.4f}\".format(result))"
   ]
  },
  {
   "cell_type": "markdown",
   "metadata": {},
   "source": [
    "### Úloha 3.6\n",
    "Na vstupe máte nasledujúce textové dáta:"
   ]
  },
  {
   "cell_type": "code",
   "execution_count": 83,
   "metadata": {},
   "outputs": [
    {
     "name": "stdout",
     "output_type": "stream",
     "text": [
      "Minimum: 55.3000\n",
      "Maximum: 2500.0000\n",
      "Average: 785.1909\n",
      "Deviation: ??\n"
     ]
    },
    {
     "data": {
      "text/plain": [
       "['ford',\n",
       " 'ford',\n",
       " 'hybrid',\n",
       " 'peugeot',\n",
       " 'power',\n",
       " 'producer',\n",
       " 'toyota',\n",
       " 'volkswagen',\n",
       " 'volkswagen',\n",
       " 'weight']"
      ]
     },
     "execution_count": 83,
     "metadata": {},
     "output_type": "execute_result"
    }
   ],
   "source": [
    "data = \"\"\"'power'; 'weight'; 'hybrid'; 'producer'\n",
    "55.3; 1450; false; 'ford'\n",
    "100; 2500; false; 'ford'\n",
    "60.5; 1150; true; 'toyota'\n",
    "56; ?; false; 'volkswagen'\n",
    "75.2; 1480; false; 'volkswagen'\n",
    "80.1; 1630; false; 'peugeot'\"\"\"\n",
    "\n",
    "min = float(\"inf\")\n",
    "max = 0\n",
    "dev = 0\n",
    "sum = 0\n",
    "count = 0\n",
    "rows = data.split(\"\\n\")\n",
    "strings = []\n",
    "for j, row in enumerate(rows):\n",
    "    x = row.split(\"; \")\n",
    "    for i, v in enumerate(x):\n",
    "        if v[0] == \"'\":\n",
    "            x[i] = v[1:len(v)-1]\n",
    "            strings.append(x[i])\n",
    "        elif v == \"false\":\n",
    "            x[i] = False\n",
    "        elif v == \"true\":\n",
    "            x[i] = True\n",
    "        elif v == \"?\":\n",
    "            x[i] = None\n",
    "        else:\n",
    "            x[i] = float(v)\n",
    "            if min > x[i]:\n",
    "                min = x[i]\n",
    "            if max < x[i]:\n",
    "                max = x[i]\n",
    "            sum += x[i]\n",
    "            count += 1\n",
    "    rows[j] = x\n",
    "\n",
    "rows\n",
    "print(\"Minimum: {0:.4f}\\nMaximum: {1:.4f}\\nAverage: {2:.4f}\\nDeviation: ??\".format(min, max, sum/count))\n",
    "strings.sort()\n",
    "strings"
   ]
  },
  {
   "cell_type": "markdown",
   "metadata": {},
   "source": [
    "Napíšte skript, ktorý:\n",
    "* Rozdelí text na riadky a oddelí dátové polia. Hodnoty polí prevedie z reťazca na dátový typ Pythonu, tzn. čísla, reťazce bez oddeľovačov a Boolovské hodnoty.\n",
    "* Chýbajúce hodnoty označené `?` reprezentujte konštantou `None`.\n",
    "* Pre číselné polia vypíše základné štatistiky: min./max./priemernú hodnotu a štandardnú odchýlku zaokrúhlené na 4 desatinné miesta.\n",
    "* Pre textové polia vypíše zoznam hodnôt usporiadaný podľa abecedy."
   ]
  },
  {
   "cell_type": "code",
   "execution_count": null,
   "metadata": {},
   "outputs": [],
   "source": []
  },
  {
   "cell_type": "code",
   "execution_count": null,
   "metadata": {},
   "outputs": [],
   "source": []
  }
 ],
 "metadata": {
  "kernelspec": {
   "display_name": "Python 3",
   "language": "python",
   "name": "python3"
  },
  "language_info": {
   "codemirror_mode": {
    "name": "ipython",
    "version": 3
   },
   "file_extension": ".py",
   "mimetype": "text/x-python",
   "name": "python",
   "nbconvert_exporter": "python",
   "pygments_lexer": "ipython3",
   "version": "3.7.1"
  }
 },
 "nbformat": 4,
 "nbformat_minor": 2
}
