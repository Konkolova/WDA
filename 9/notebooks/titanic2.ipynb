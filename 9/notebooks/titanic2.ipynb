{
 "cells": [
  {
   "cell_type": "markdown",
   "metadata": {},
   "source": [
    "![Titanic](https://www.snopes.com/tachyon/2017/01/titanic_sinking_tw.jpg)\n",
    "\n",
    "\n",
    "# Vizualizácie pomocou knižnice Seaborn - cvičenie 2\n",
    "\n",
    "Nasledujúce úlohy prezentujú demonštrujú použitie knižnice Seaborn pri rôznych spôsoboch vizualizácií premenných v dátových rámcoch Pandas na dátovej kolekcii ``Titanic``. \n",
    "\n",
    "Importujeme potrebné knižnice. Nasledujúci odstavec by mal byť spustený ako prvý predtým ako sa budú používať importované objekty `pd`, `np`, a `sns`."
   ]
  },
  {
   "cell_type": "code",
   "execution_count": 1,
   "metadata": {},
   "outputs": [],
   "source": [
    "import seaborn as sns\n",
    "import pandas as pd\n",
    "import numpy as np\n",
    "import matplotlib.pyplot as plt\n",
    "\n",
    "# nastavíme zobrazovanie grafov priamo v odstavcoch zápisníka\n",
    "%matplotlib inline\n",
    "\n",
    "# inicializujeme knižnicu seaborn\n",
    "sns.set()"
   ]
  },
  {
   "cell_type": "markdown",
   "metadata": {},
   "source": [
    "Tentoraz nepoužijeme funkciu pre načítanie dát z repozitáru príkladov knižnice Seaborn, ale použijeme dataset, s ktorým ste pracovali na predchádzajúcich cvičeniach. ložený na disku v adresári a súbore ``/data/titanic-processed.csv``. Dataset je už z predchádzajúceho cvičenia predspracovaný - očistený o chýbajúce hodnoty, niektoré atribúty boli odstránené, iné transformované. \n",
    "\n",
    "Ak chceme pracovať pomocou knižnice s dátami, ktoré máme uložené na disku, potrebujeme ich najprv načítať (rovnako ako napredchádzajúcich cvičeniach) do dátového rámca Pandas. Ďalej potom môžeme pracovať rovnakým spôsobom, ako pri použití načítavania dát z repozitára príkladov knižnice Seaborn.\n",
    "\n",
    "Načítame teda dataset Titanic zo súboru uloženého na disku pomocou funkcie `read_csv()`. Hlavičku a prvých 5 záznamov dátového rámca zobrazíme ako obvykle použitím `head()`."
   ]
  },
  {
   "cell_type": "code",
   "execution_count": 2,
   "metadata": {},
   "outputs": [],
   "source": [
    "titanic = pd.read_csv('../data/titanic-processed.csv')"
   ]
  },
  {
   "cell_type": "code",
   "execution_count": 3,
   "metadata": {},
   "outputs": [
    {
     "data": {
      "text/html": [
       "<div>\n",
       "<style scoped>\n",
       "    .dataframe tbody tr th:only-of-type {\n",
       "        vertical-align: middle;\n",
       "    }\n",
       "\n",
       "    .dataframe tbody tr th {\n",
       "        vertical-align: top;\n",
       "    }\n",
       "\n",
       "    .dataframe thead th {\n",
       "        text-align: right;\n",
       "    }\n",
       "</style>\n",
       "<table border=\"1\" class=\"dataframe\">\n",
       "  <thead>\n",
       "    <tr style=\"text-align: right;\">\n",
       "      <th></th>\n",
       "      <th>pclass</th>\n",
       "      <th>survived</th>\n",
       "      <th>sex</th>\n",
       "      <th>age</th>\n",
       "      <th>sibsp</th>\n",
       "      <th>parch</th>\n",
       "      <th>ticket</th>\n",
       "      <th>fare</th>\n",
       "      <th>cabin</th>\n",
       "      <th>embarked</th>\n",
       "      <th>family</th>\n",
       "      <th>has_family</th>\n",
       "      <th>fare_ordinal</th>\n",
       "      <th>title</th>\n",
       "      <th>title_short</th>\n",
       "      <th>age_ordinal</th>\n",
       "      <th>deck</th>\n",
       "    </tr>\n",
       "  </thead>\n",
       "  <tbody>\n",
       "    <tr>\n",
       "      <th>0</th>\n",
       "      <td>1</td>\n",
       "      <td>1</td>\n",
       "      <td>female</td>\n",
       "      <td>29.00</td>\n",
       "      <td>0</td>\n",
       "      <td>0</td>\n",
       "      <td>24160</td>\n",
       "      <td>211.3375</td>\n",
       "      <td>B5</td>\n",
       "      <td>Southampton</td>\n",
       "      <td>0</td>\n",
       "      <td>False</td>\n",
       "      <td>most expensive</td>\n",
       "      <td>Miss</td>\n",
       "      <td>Miss</td>\n",
       "      <td>adult</td>\n",
       "      <td>B</td>\n",
       "    </tr>\n",
       "    <tr>\n",
       "      <th>1</th>\n",
       "      <td>1</td>\n",
       "      <td>1</td>\n",
       "      <td>male</td>\n",
       "      <td>0.92</td>\n",
       "      <td>1</td>\n",
       "      <td>2</td>\n",
       "      <td>113781</td>\n",
       "      <td>151.5500</td>\n",
       "      <td>C22 C26</td>\n",
       "      <td>Southampton</td>\n",
       "      <td>3</td>\n",
       "      <td>True</td>\n",
       "      <td>most expensive</td>\n",
       "      <td>Master</td>\n",
       "      <td>rare title</td>\n",
       "      <td>child</td>\n",
       "      <td>C</td>\n",
       "    </tr>\n",
       "    <tr>\n",
       "      <th>2</th>\n",
       "      <td>1</td>\n",
       "      <td>0</td>\n",
       "      <td>female</td>\n",
       "      <td>2.00</td>\n",
       "      <td>1</td>\n",
       "      <td>2</td>\n",
       "      <td>113781</td>\n",
       "      <td>151.5500</td>\n",
       "      <td>C22 C26</td>\n",
       "      <td>Southampton</td>\n",
       "      <td>3</td>\n",
       "      <td>True</td>\n",
       "      <td>most expensive</td>\n",
       "      <td>Miss</td>\n",
       "      <td>Miss</td>\n",
       "      <td>child</td>\n",
       "      <td>C</td>\n",
       "    </tr>\n",
       "    <tr>\n",
       "      <th>3</th>\n",
       "      <td>1</td>\n",
       "      <td>0</td>\n",
       "      <td>male</td>\n",
       "      <td>30.00</td>\n",
       "      <td>1</td>\n",
       "      <td>2</td>\n",
       "      <td>113781</td>\n",
       "      <td>151.5500</td>\n",
       "      <td>C22 C26</td>\n",
       "      <td>Southampton</td>\n",
       "      <td>3</td>\n",
       "      <td>True</td>\n",
       "      <td>most expensive</td>\n",
       "      <td>Mr</td>\n",
       "      <td>Mr</td>\n",
       "      <td>adult</td>\n",
       "      <td>C</td>\n",
       "    </tr>\n",
       "    <tr>\n",
       "      <th>4</th>\n",
       "      <td>1</td>\n",
       "      <td>0</td>\n",
       "      <td>female</td>\n",
       "      <td>25.00</td>\n",
       "      <td>1</td>\n",
       "      <td>2</td>\n",
       "      <td>113781</td>\n",
       "      <td>151.5500</td>\n",
       "      <td>C22 C26</td>\n",
       "      <td>Southampton</td>\n",
       "      <td>3</td>\n",
       "      <td>True</td>\n",
       "      <td>most expensive</td>\n",
       "      <td>Mrs</td>\n",
       "      <td>Mrs</td>\n",
       "      <td>adult</td>\n",
       "      <td>C</td>\n",
       "    </tr>\n",
       "  </tbody>\n",
       "</table>\n",
       "</div>"
      ],
      "text/plain": [
       "   pclass  survived     sex    age  sibsp  parch  ticket      fare    cabin  \\\n",
       "0       1         1  female  29.00      0      0   24160  211.3375       B5   \n",
       "1       1         1    male   0.92      1      2  113781  151.5500  C22 C26   \n",
       "2       1         0  female   2.00      1      2  113781  151.5500  C22 C26   \n",
       "3       1         0    male  30.00      1      2  113781  151.5500  C22 C26   \n",
       "4       1         0  female  25.00      1      2  113781  151.5500  C22 C26   \n",
       "\n",
       "      embarked  family  has_family    fare_ordinal   title title_short  \\\n",
       "0  Southampton       0       False  most expensive    Miss        Miss   \n",
       "1  Southampton       3        True  most expensive  Master  rare title   \n",
       "2  Southampton       3        True  most expensive    Miss        Miss   \n",
       "3  Southampton       3        True  most expensive      Mr          Mr   \n",
       "4  Southampton       3        True  most expensive     Mrs         Mrs   \n",
       "\n",
       "  age_ordinal deck  \n",
       "0       adult    B  \n",
       "1       child    C  \n",
       "2       child    C  \n",
       "3       adult    C  \n",
       "4       adult    C  "
      ]
     },
     "execution_count": 3,
     "metadata": {},
     "output_type": "execute_result"
    }
   ],
   "source": [
    "titanic.head()"
   ]
  },
  {
   "cell_type": "markdown",
   "metadata": {},
   "source": [
    "Predspracovaný dataset obsahuje nasledovné atribúty:\n",
    "\n",
    "* pclass - trieda, v ktorej pasažier cestoval\n",
    "* survived - udáva, či pasažier nehodu parníku prežil (1) alebo nie (0)\n",
    "* sex - pohlavie cestujúceho\n",
    "* age - vek\n",
    "* sibsp - počet súrodencov pasažiera, resp. druhov/družiek\n",
    "* parch - počet rodičov/detí medzi cestujúcimi\n",
    "* ticket - číslo lístka\n",
    "* fare - výška cestovného\n",
    "* cabin - kajuta v ktorej bol cestujúci ubytovaný\n",
    "* embarked - prístav, kde cestujúci nastúpil (Southampton, Cherbourg, Queenstown)\n",
    "* family - počet rodinných členov, s ktorými cestujúci cestoval\n",
    "* has_family - udáva, či cestujúci cestoval s rodinným príslušníkom alebo nie\n",
    "* fare_ordinal - diskretizácovaná cena\n",
    "* title - titul cestujúceho\n",
    "* title_short - skratka titulu\n",
    "* age_ordinal - stupeň veku - vznikol diskretizáciou atribútu age\n",
    "* deck - paluba na ktorej bol ubytovaný\n"
   ]
  },
  {
   "cell_type": "markdown",
   "metadata": {},
   "source": [
    "Vizualizujeme teda počet mužov a žien plaviacich sa na Titanicu."
   ]
  },
  {
   "cell_type": "code",
   "execution_count": 4,
   "metadata": {},
   "outputs": [
    {
     "data": {
      "image/png": "[encoded data removed]",
      "text/plain": [
       "<Figure size 432x288 with 1 Axes>"
      ]
     },
     "metadata": {
      "needs_background": "light"
     },
     "output_type": "display_data"
    }
   ],
   "source": [
    "g = sns.countplot(x = 'sex', data = titanic)"
   ]
  },
  {
   "cell_type": "markdown",
   "metadata": {},
   "source": [
    "#### Úloha 9.8\n",
    "\n",
    "Vizualizujte vhodným grafom priemery a štandardné odchýlky veku mužov a žien cestujúcich na Titanicu."
   ]
  },
  {
   "cell_type": "code",
   "execution_count": 5,
   "metadata": {},
   "outputs": [
    {
     "data": {
      "image/png": "[encoded data removed]",
      "text/plain": [
       "<Figure size 432x288 with 1 Axes>"
      ]
     },
     "metadata": {
      "needs_background": "light"
     },
     "output_type": "display_data"
    }
   ],
   "source": [
    "g = sns.barplot(data=titanic, x=\"sex\", y=\"age\")"
   ]
  },
  {
   "cell_type": "markdown",
   "metadata": {},
   "source": [
    "#### Úloha 9.9\n",
    "\n",
    "Zobrazte počty cestujúcich mužov a žien v jednotlivých cestovných triedach."
   ]
  },
  {
   "cell_type": "code",
   "execution_count": 6,
   "metadata": {},
   "outputs": [
    {
     "data": {
      "image/png": "[encoded data removed]",
      "text/plain": [
       "<Figure size 432x288 with 1 Axes>"
      ]
     },
     "metadata": {
      "needs_background": "light"
     },
     "output_type": "display_data"
    }
   ],
   "source": [
    "g = sns.countplot(data=titanic, x=\"pclass\", hue=\"sex\", palette=\"Set1\")"
   ]
  },
  {
   "cell_type": "markdown",
   "metadata": {},
   "source": [
    "#### Úloha 9.10\n",
    "\n",
    "Zvoľte vhodný graf a vizualizujte, koľko z cestujúcich z jednotlivých miest nástupu na Titanic prežilo alebo neprežilo katastrofu."
   ]
  },
  {
   "cell_type": "code",
   "execution_count": 10,
   "metadata": {},
   "outputs": [
    {
     "data": {
      "image/png": "[encoded data removed]",
      "text/plain": [
       "<Figure size 432x288 with 1 Axes>"
      ]
     },
     "metadata": {
      "needs_background": "light"
     },
     "output_type": "display_data"
    }
   ],
   "source": [
    "g = sns.countplot(x=\"embarked\", data=titanic, hue=\"survived\")"
   ]
  },
  {
   "cell_type": "markdown",
   "metadata": {},
   "source": [
    "#### Úloha 9.11\n",
    "\n",
    "Zvoľte vhodný spôsob pre vizualizovanie počtu cestujúcich, ktorí prežili, resp. neprežili katastrofu vzhľadom na triedu v ktorej cestovali. Vykreslite grafy naraz pre jednotlivé pohlavia. "
   ]
  },
  {
   "cell_type": "code",
   "execution_count": null,
   "metadata": {},
   "outputs": [],
   "source": []
  },
  {
   "cell_type": "markdown",
   "metadata": {},
   "source": [
    "#### Úloha 9.12\n",
    "\n",
    "Poďme sa pozrieť na pasažierov aj z hľadiska ich veku. Zvoľte vhodný spôsob zobrazenia vekového rozloženia (`Age`) cestujúcich vzhľadom na triedu, v ktorej cestovali."
   ]
  },
  {
   "cell_type": "code",
   "execution_count": null,
   "metadata": {},
   "outputs": [],
   "source": []
  },
  {
   "cell_type": "markdown",
   "metadata": {},
   "source": [
    "#### Úloha 9.13 \n",
    "\n",
    "Rozšírte predchádzajúci graf a zvoľte vhodný spôsob vizualizácie distribúcie veku cestujúcich vzhľadom na triedu, v ktorej cestovali aj vzhľadom na pohlavie cestujúceho."
   ]
  },
  {
   "cell_type": "code",
   "execution_count": null,
   "metadata": {},
   "outputs": [],
   "source": [
    "# YOUR CODE HERE"
   ]
  },
  {
   "cell_type": "markdown",
   "metadata": {},
   "source": [
    "#### Úloha 9.14\n",
    "\n",
    "Vytvorte graf, ktorý vizualizujte priemerný vek cestujúcich v rámci jednotlivých tried podľa pohlavia. "
   ]
  },
  {
   "cell_type": "code",
   "execution_count": 25,
   "metadata": {},
   "outputs": [
    {
     "data": {
      "image/png": "[encoded data removed]",
      "text/plain": [
       "<Figure size 432x288 with 1 Axes>"
      ]
     },
     "metadata": {
      "needs_background": "light"
     },
     "output_type": "display_data"
    }
   ],
   "source": [
    "g = sns.barplot(data=titanic, x=\"pclass\", y=\"age\", hue=\"sex\", ci=None)"
   ]
  },
  {
   "cell_type": "markdown",
   "metadata": {},
   "source": [
    "#### Úloha 9.15\n",
    "\n",
    "Vizualizujte koľko cestujúcich prežilo/neprežilo potopenie lode pre jednotlivé paluby. "
   ]
  },
  {
   "cell_type": "code",
   "execution_count": 23,
   "metadata": {},
   "outputs": [
    {
     "data": {
      "image/png": "[encoded data removed]",
      "text/plain": [
       "<Figure size 432x288 with 1 Axes>"
      ]
     },
     "metadata": {
      "needs_background": "light"
     },
     "output_type": "display_data"
    }
   ],
   "source": [
    "g = sns.countplot(data=titanic, x=\"deck\", hue=\"survived\")"
   ]
  },
  {
   "cell_type": "markdown",
   "metadata": {},
   "source": [
    "#### Úloha 9.16\n",
    "\n",
    "Vytvorte vizualizáciu, ktorá zobrazí počty mužov a žien, ktorí prežili/neprežili potopenie lode v rámci rôznych vekových skupín (`age_ordinal`)."
   ]
  },
  {
   "cell_type": "code",
   "execution_count": null,
   "metadata": {},
   "outputs": [],
   "source": [
    "# YOUR CODE HERE"
   ]
  },
  {
   "cell_type": "markdown",
   "metadata": {},
   "source": [
    "#### Úloha 9.17\n",
    "\n",
    "Vizualizujte vzájomný vzťah medzi vekom cestujúcich a výškou cestovného. Existuje medzi nimi nejaká závislosť?"
   ]
  },
  {
   "cell_type": "code",
   "execution_count": 29,
   "metadata": {},
   "outputs": [
    {
     "data": {
      "image/png": "[encoded data removed]",
      "text/plain": [
       "<Figure size 432x288 with 1 Axes>"
      ]
     },
     "metadata": {
      "needs_background": "light"
     },
     "output_type": "display_data"
    }
   ],
   "source": [
    "g = sns.scatterplot(data=titanic, x=\"age\", y=\"fare\")"
   ]
  },
  {
   "cell_type": "markdown",
   "metadata": {},
   "source": [
    "#### Úloha 9.18\n",
    "\n",
    "Vizualizujte korelácie numerických atribútov pomocou Heatmapy. Korelačné koeficienty vykreslite do grafu. "
   ]
  },
  {
   "cell_type": "code",
   "execution_count": 38,
   "metadata": {},
   "outputs": [
    {
     "data": {
      "image/png": "[encoded data removed]",
      "text/plain": [
       "<Figure size 432x288 with 2 Axes>"
      ]
     },
     "metadata": {
      "needs_background": "light"
     },
     "output_type": "display_data"
    }
   ],
   "source": [
    "factors = titanic[[\"age\", \"fare\", \"family\", \"sibsp\", \"parch\"]]\n",
    "corr_table = factors.corr()\n",
    "g = sns.heatmap(factors.corr(), cmap=\"PuBu\")"
   ]
  },
  {
   "cell_type": "markdown",
   "metadata": {},
   "source": [
    "#### Úloha 9.19\n",
    "\n",
    "Vyberte si niektorú z konfigenčných tabuliek z úloh z predoľlého cvičenia a vykreslite ju pomocou heatmapy."
   ]
  },
  {
   "cell_type": "code",
   "execution_count": null,
   "metadata": {},
   "outputs": [],
   "source": [
    "# YOUR CODE HERE"
   ]
  },
  {
   "cell_type": "markdown",
   "metadata": {},
   "source": [
    "#### Úloha 9.20\n",
    "\n",
    "Vykreslite pomocou `FacetGrid` mriežku distribúcií veku (`age`) tých, ktorí prežili/neprežili katastforu na jednotlivých palubách."
   ]
  },
  {
   "cell_type": "code",
   "execution_count": null,
   "metadata": {},
   "outputs": [],
   "source": [
    "# YOUR CODE HERE"
   ]
  }
 ],
 "metadata": {
  "kernelspec": {
   "display_name": "Python 3",
   "language": "python",
   "name": "python3"
  },
  "language_info": {
   "codemirror_mode": {
    "name": "ipython",
    "version": 3
   },
   "file_extension": ".py",
   "mimetype": "text/x-python",
   "name": "python",
   "nbconvert_exporter": "python",
   "pygments_lexer": "ipython3",
   "version": "3.7.2"
  }
 },
 "nbformat": 4,
 "nbformat_minor": 2
}
